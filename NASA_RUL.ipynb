{
  "nbformat": 4,
  "nbformat_minor": 0,
  "metadata": {
    "colab": {
      "provenance": []
    },
    "kernelspec": {
      "name": "python3",
      "display_name": "Python 3"
    },
    "language_info": {
      "name": "python"
    }
  },
  "cells": [
    {
      "cell_type": "code",
      "execution_count": null,
      "metadata": {
        "id": "JVJjG68h7rsG"
      },
      "outputs": [],
      "source": [
        "import numpy as np\n",
        "import pandas as pd\n",
        "from sklearn.linear_model import LinearRegression\n",
        "\n",
        "# Load the data\n",
        "data = pd.read_csv('nasa_rul.csv')\n",
        "\n",
        "# Split the data into training and test sets\n",
        "X_train = data.drop('RUL', axis=1)[:int(0.8 * len(data))]\n",
        "y_train = data['RUL'][:int(0.8 * len(data))]\n",
        "X_test = data.drop('RUL', axis=1)[int(0.8 * len(data)):]\n",
        "y_test = data['RUL'][int(0.8 * len(data)):]\n",
        "\n",
        "# Create a linear regression model\n",
        "model = LinearRegression()\n",
        "\n",
        "# Train the model\n",
        "model.fit(X_train, y_train)\n",
        "\n",
        "# Make predictions on the test set\n",
        "y_pred = model.predict(X_test)\n",
        "\n",
        "# Evaluate the model's performance\n",
        "rmse = np.sqrt(mean_squared_error(y_test, y_pred))\n",
        "print('RMSE:', rmse)\n"
      ]
    }
  ]
}